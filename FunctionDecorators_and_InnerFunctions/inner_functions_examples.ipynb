{
 "cells": [
  {
   "cell_type": "markdown",
   "metadata": {},
   "source": [
    "### credits to \"https://realpython.com/inner-functions-what-are-they-good-for/\""
   ]
  },
  {
   "cell_type": "markdown",
   "metadata": {},
   "source": [
    "# Encapsulation\n"
   ]
  },
  {
   "cell_type": "code",
   "execution_count": 3,
   "metadata": {},
   "outputs": [
    {
     "name": "stdout",
     "output_type": "stream",
     "text": [
      "10 11\n"
     ]
    }
   ],
   "source": [
    "def outer(num1):\n",
    "    def inner_increment(num1):  # Hidden from outer code\n",
    "        return num1 + 1\n",
    "    num2 = inner_increment(num1)\n",
    "    print(num1, num2)\n",
    "\n",
    "#inner_increment(10)\n",
    "outer(10)"
   ]
  },
  {
   "cell_type": "markdown",
   "metadata": {},
   "source": [
    "### Note: Keep in mind that this is just an example. Although this code does achieve the desired result, it’s probably better to make inner_increment() a top-level “private” function using a leading underscore: \"\t&#95;inner&#95;increment()\"."
   ]
  },
  {
   "cell_type": "code",
   "execution_count": 4,
   "metadata": {},
   "outputs": [],
   "source": [
    "def factorial(number):\n",
    "\n",
    "    # Error handling\n",
    "    if not isinstance(number, int):\n",
    "        raise TypeError(\"Sorry. 'number' must be an integer.\")\n",
    "    if not number >= 0:\n",
    "        raise ValueError(\"Sorry. 'number' must be zero or positive.\")\n",
    "\n",
    "    def inner_factorial(number):\n",
    "        if number <= 1:\n",
    "            return 1\n",
    "        return number*inner_factorial(number-1)\n",
    "    return inner_factorial(number)"
   ]
  },
  {
   "cell_type": "code",
   "execution_count": 5,
   "metadata": {},
   "outputs": [
    {
     "name": "stdout",
     "output_type": "stream",
     "text": [
      "24\n"
     ]
    }
   ],
   "source": [
    "print(factorial(4))"
   ]
  },
  {
   "cell_type": "code",
   "execution_count": 6,
   "metadata": {},
   "outputs": [],
   "source": [
    "## Perhaps you have a giant function that performs the same chunk of code in numerous places.  \n",
    "## For example, you might write a function that processes a file, \n",
    "## and you want to accept either an open file object or a file name:\n",
    "\n",
    "def process(file_name):\n",
    "    def do_stuff(file_process):\n",
    "        for line in file_process:\n",
    "            print(line)\n",
    "    if isinstance(file_name, str):\n",
    "        with open(file_name, 'r') as f:\n",
    "            do_stuff(f)\n",
    "    else:\n",
    "        do_stuff(file_name)\n",
    "        \n",
    "## Note: Again, it is common to just make do_stuff() a private top-level function,\n",
    "## but if you want to hide it away as an internal function, you can."
   ]
  },
  {
   "cell_type": "code",
   "execution_count": 7,
   "metadata": {},
   "outputs": [],
   "source": [
    "## Let’s say you want to know the number of WiFi hotspots in New York City. Yes, the city has the raw data to tell us. \n",
    "## Visit the site and download the CSV:\n",
    "\n",
    "def process(file_name):\n",
    "\n",
    "    def do_stuff(file_process):\n",
    "        wifi_locations = {}\n",
    "\n",
    "        for line in file_process:\n",
    "            values = line.split(',')\n",
    "            # Build the dict and increment values.\n",
    "            wifi_locations[values[1]] = wifi_locations.get(values[1], 0) + 1\n",
    "\n",
    "        max_key = 0\n",
    "        for name, key in wifi_locations.items():\n",
    "            all_locations = sum(wifi_locations.values())\n",
    "            if key > max_key:\n",
    "                max_key = key\n",
    "                business = name\n",
    "\n",
    "        print(f'There are {all_locations} WiFi hotspots in NYC, '\n",
    "              f'and {business} has the most with {max_key}.')\n",
    "\n",
    "    if isinstance(file_name, str):\n",
    "        with open(file_name, 'r') as f:\n",
    "            do_stuff(f)\n",
    "    else:\n",
    "        do_stuff(file_name)"
   ]
  },
  {
   "cell_type": "markdown",
   "metadata": {},
   "source": [
    "Closures and Factory Functions\n",
    "Now we come to the most important reason to use inner functions. \n",
    "All of the inner function examples we’ve seen so far have been ordinary functions that merely happened to be nested inside another function. \n",
    "In other words, we could have defined these functions in another way (as discussed). \n",
    "There is no specific reason for why they need to be nested.\n",
    "\n",
    "But when it comes to closures, that is not the case: you must use nested functions.\n",
    "\n",
    "What’s a Closure?\n",
    "A closure simply causes the inner function to remember the state of its environment when called. \n",
    "Beginners often think that a closure is the inner function, but it’s really caused by the inner function. \n",
    "The closure “closes” the local variable on the stack, and this stays around after the stack creation has finished executing."
   ]
  },
  {
   "cell_type": "code",
   "execution_count": 8,
   "metadata": {},
   "outputs": [],
   "source": [
    "def generate_power(number):\n",
    "    \"\"\"\n",
    "    Examples of use:\n",
    "\n",
    "    >>> raise_two = generate_power(2)\n",
    "    >>> raise_three = generate_power(3)\n",
    "    >>> print(raise_two(7))\n",
    "    128\n",
    "    >>> print(raise_three(5))\n",
    "    243\n",
    "    \"\"\"\n",
    "\n",
    "    # Define the inner function ...\n",
    "    def nth_power(power):\n",
    "        return number ** power\n",
    "    # ... that is returned by the factory function.\n",
    "\n",
    "    return nth_power\n"
   ]
  },
  {
   "cell_type": "code",
   "execution_count": 9,
   "metadata": {},
   "outputs": [
    {
     "name": "stdout",
     "output_type": "stream",
     "text": [
      "8\n"
     ]
    }
   ],
   "source": [
    "raise_two = generate_power(2) # this sets the number we want to get its nth power\n",
    "print(raise_two(3)) # this line computes the 3rd power of number = 2 "
   ]
  },
  {
   "cell_type": "markdown",
   "metadata": {},
   "source": [
    "What’s Happening in the Example\n",
    "Let’s take a look at what is going on in that example:\n",
    "\n",
    "generate_power() is a factory function, which simply means that it creates a new function each time it is called and then returns the newly created function. Thus, raise_two() and raise_three() are the newly created functions.\n",
    "What does this new, inner function do? It takes a single argument, power, and returns number**power.\n",
    "Where does the inner function get the value of number from? This is where the closure comes into play: nth_power() gets the value of power from the outer function, the factory function. Let’s step through this process:\n",
    "\n",
    "Call the outer function: generate_power(2).\n",
    "Build nth_power(), which takes a single argument power.\n",
    "Take a snapshot of the state of nth_power(), which includes power=2.\n",
    "Pass that snapshot into generate_power().\n",
    "Return nth_power().\n",
    "To put it another way, the closure “initializes” the number bar in nth_power() and then returns it. Now, whenever you call that newly returned function, it will always see its own private snapshot that includes power=2."
   ]
  },
  {
   "cell_type": "code",
   "execution_count": 10,
   "metadata": {},
   "outputs": [
    {
     "name": "stdout",
     "output_type": "stream",
     "text": [
      "'Admin' does have access to Admin Area.\n",
      "'Not Admin' does NOT have access to Admin Area.\n"
     ]
    }
   ],
   "source": [
    "## This is a simplified function to check if a certain user has the correct permissions to access a certain page. \n",
    "## You could easily modify this to grab the user in session to check if they have the correct credentials to access a certain route. \n",
    "## Instead of checking if the user is just equal to 'Admin', \n",
    "## you could query the database to check the permission and then return \n",
    "## the correct view depending on whether the credentials are correct or not.\n",
    "\n",
    "\n",
    "def has_permission(page):\n",
    "    def inner(username):\n",
    "        if username == 'Admin':\n",
    "            return \"'{0}' does have access to {1}.\".format(username, page)\n",
    "        else:\n",
    "            return \"'{0}' does NOT have access to {1}.\".format(username, page)\n",
    "    return inner\n",
    "\n",
    "\n",
    "current_user = has_permission('Admin Area')\n",
    "print(current_user('Admin'))\n",
    "\n",
    "random_user = has_permission('Admin Area')\n",
    "print(random_user('Not Admin'))"
   ]
  },
  {
   "cell_type": "code",
   "execution_count": 11,
   "metadata": {},
   "outputs": [],
   "source": [
    "## The use of closures and factory functions is the most common and powerful use for inner functions. \n",
    "## In most cases, when you see a decorated function, the decorator is a factory \n",
    "## function that takes a function as argument and returns a new function that includes the old function \n",
    "## inside the closure.\n",
    "\n",
    "## To put it another way, a decorator is just syntactic sugar for \n",
    "## implementing the process outlined in the generate_power() example.\n",
    "\n",
    "\n",
    "def generate_power(exponent):\n",
    "    def decorator(f):\n",
    "        def inner(*args):\n",
    "            result = f(*args)\n",
    "            return exponent**result\n",
    "        return inner\n",
    "    return decorator"
   ]
  },
  {
   "cell_type": "code",
   "execution_count": 12,
   "metadata": {},
   "outputs": [
    {
     "name": "stdout",
     "output_type": "stream",
     "text": [
      "128\n",
      "9\n"
     ]
    }
   ],
   "source": [
    "@generate_power(2)\n",
    "def raise_two(n):\n",
    "    return n\n",
    "\n",
    "print(raise_two(7))\n",
    "\n",
    "\n",
    "@generate_power(3)\n",
    "def raise_three(n):\n",
    "    return n\n",
    "\n",
    "print(raise_three(2))"
   ]
  },
  {
   "cell_type": "code",
   "execution_count": null,
   "metadata": {},
   "outputs": [],
   "source": []
  }
 ],
 "metadata": {
  "kernelspec": {
   "display_name": "Python 3",
   "language": "python",
   "name": "python3"
  },
  "language_info": {
   "codemirror_mode": {
    "name": "ipython",
    "version": 3
   },
   "file_extension": ".py",
   "mimetype": "text/x-python",
   "name": "python",
   "nbconvert_exporter": "python",
   "pygments_lexer": "ipython3",
   "version": "3.7.0"
  }
 },
 "nbformat": 4,
 "nbformat_minor": 2
}
