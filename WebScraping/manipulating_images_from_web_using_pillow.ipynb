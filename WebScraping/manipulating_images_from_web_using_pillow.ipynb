{
 "cells": [
  {
   "cell_type": "markdown",
   "metadata": {},
   "source": [
    "### Python module/package imports"
   ]
  },
  {
   "cell_type": "code",
   "execution_count": null,
   "metadata": {},
   "outputs": [],
   "source": [
    "import os, sys, collections, re, json, io, base64\n",
    "\n",
    "import numpy as np\n",
    "\n",
    "import matplotlib\n",
    "import matplotlib.pyplot as pp\n",
    "\n",
    "%matplotlib inline\n",
    "\n",
    "import requests\n",
    "import bs4      # BeautifulSoup 4\n",
    "\n",
    "import IPython.display\n",
    "import PIL, PIL.Image, PIL.ImageOps, PIL.ImageEnhance  # Python Imaging Library - now \"pillow\""
   ]
  },
  {
   "cell_type": "markdown",
   "metadata": {},
   "source": [
    "### URL of the target webpage which in our example is NASA "
   ]
  },
  {
   "cell_type": "code",
   "execution_count": null,
   "metadata": {},
   "outputs": [],
   "source": [
    "imgurl = \"http://mars.jpl.nasa.gov/msl-raw-images/proj/msl/redops/ods/surface/sol/01460/opgs/edr/fcam/FRB_527107895EDR_F0572798FHAZ00337M_.jpg\"\n",
    "\n",
    "# if internet is not available or NASA's webserver is unresponsive,\n",
    "# the images used below are available in the exercise files, and\n",
    "# they can be loaded into Pillow with\n",
    "# imgright = PIL.Image.open('FRB_527107895EDR_F0572798FHAZ00337M_.jpg','r')\n",
    "# imgleft  = PIL.Image.open('FLB_527107895EDR_F0572798FHAZ00337M_.jpg','r')"
   ]
  },
  {
   "cell_type": "markdown",
   "metadata": {},
   "source": [
    "## Manipulating images with Pillow"
   ]
  },
  {
   "cell_type": "code",
   "execution_count": null,
   "metadata": {},
   "outputs": [],
   "source": [
    "download = requests.get(imgurl)"
   ]
  },
  {
   "cell_type": "code",
   "execution_count": null,
   "metadata": {},
   "outputs": [],
   "source": [
    "type(download.content)"
   ]
  },
  {
   "cell_type": "code",
   "execution_count": null,
   "metadata": {},
   "outputs": [],
   "source": [
    "imgright = PIL.Image.open(io.BytesIO(download.content))"
   ]
  },
  {
   "cell_type": "code",
   "execution_count": null,
   "metadata": {},
   "outputs": [],
   "source": [
    "imgright"
   ]
  },
  {
   "cell_type": "code",
   "execution_count": null,
   "metadata": {},
   "outputs": [],
   "source": [
    "imgright_resized = imgright.resize((400,400))\n",
    "imgright_resized"
   ]
  },
  {
   "cell_type": "markdown",
   "metadata": {},
   "source": [
    "# Clearly no obvious difference between the linear and bilinear interpolation below"
   ]
  },
  {
   "cell_type": "code",
   "execution_count": null,
   "metadata": {},
   "outputs": [],
   "source": [
    "imgright_dewarped = imgright_resized.transform((400,300),\n",
    "                                               PIL.Image.QUAD,\n",
    "                                               data=(0,0,100,400,300,400,400,0),\n",
    "                                               resample=PIL.Image.BILINEAR)\n",
    "imgright_dewarped"
   ]
  },
  {
   "cell_type": "code",
   "execution_count": null,
   "metadata": {},
   "outputs": [],
   "source": [
    "imgright_dewarped_linear = imgright_resized.transform((400,300),\n",
    "                                               PIL.Image.QUAD,\n",
    "                                               data=(0,0,100,400,300,400,400,0),\n",
    "                                               resample=PIL.Image.LINEAR)\n",
    "imgright_dewarped_linear"
   ]
  },
  {
   "cell_type": "code",
   "execution_count": null,
   "metadata": {},
   "outputs": [],
   "source": [
    "imgurl_left = re.sub('FRB','FLB',imgurl)\n",
    "imgleft = PIL.Image.open(io.BytesIO(requests.get(imgurl_left).content))"
   ]
  },
  {
   "cell_type": "code",
   "execution_count": null,
   "metadata": {},
   "outputs": [],
   "source": [
    "imgleft_resized = imgleft.resize((400,400))\n",
    "imgleft_dewarped = imgleft_resized.transform((400,300),\n",
    "                                               PIL.Image.QUAD,\n",
    "                                               data=(0,0,100,400,300,400,400,0),\n",
    "                                               resample=PIL.Image.BILINEAR)"
   ]
  },
  {
   "cell_type": "code",
   "execution_count": null,
   "metadata": {},
   "outputs": [],
   "source": [
    "imgleft_dewarped"
   ]
  },
  {
   "cell_type": "markdown",
   "metadata": {},
   "source": [
    "# Combining images from left and right to creat a 3D effect. The 3D effect can be seen if 3D glasses are used "
   ]
  },
  {
   "cell_type": "code",
   "execution_count": null,
   "metadata": {},
   "outputs": [],
   "source": [
    "imgleft_red = PIL.ImageOps.colorize(imgleft_dewarped,(0,0,0),(255,0,0))"
   ]
  },
  {
   "cell_type": "code",
   "execution_count": null,
   "metadata": {},
   "outputs": [],
   "source": [
    "imgright_cyan = PIL.ImageOps.colorize(imgright_dewarped,(0,0,0),(0,255,255))"
   ]
  },
  {
   "cell_type": "code",
   "execution_count": null,
   "metadata": {},
   "outputs": [],
   "source": [
    "imgleft_red"
   ]
  },
  {
   "cell_type": "code",
   "execution_count": null,
   "metadata": {},
   "outputs": [],
   "source": [
    "imgright_cyan"
   ]
  },
  {
   "cell_type": "code",
   "execution_count": null,
   "metadata": {},
   "outputs": [],
   "source": [
    "blend = PIL.Image.blend(imgleft_red,imgright_cyan,0.5)\n",
    "blend"
   ]
  },
  {
   "cell_type": "code",
   "execution_count": null,
   "metadata": {},
   "outputs": [],
   "source": [
    "brightness = PIL.ImageEnhance.Brightness(blend)\n",
    "enhanced = brightness.enhance(1.75)\n",
    "enhanced"
   ]
  },
  {
   "cell_type": "code",
   "execution_count": null,
   "metadata": {},
   "outputs": [],
   "source": []
  }
 ],
 "metadata": {
  "anaconda-cloud": {},
  "kernelspec": {
   "display_name": "Python 3",
   "language": "python",
   "name": "python3"
  },
  "language_info": {
   "codemirror_mode": {
    "name": "ipython",
    "version": 3
   },
   "file_extension": ".py",
   "mimetype": "text/x-python",
   "name": "python",
   "nbconvert_exporter": "python",
   "pygments_lexer": "ipython3",
   "version": "3.7.0"
  }
 },
 "nbformat": 4,
 "nbformat_minor": 1
}
