{
 "cells": [
  {
   "cell_type": "markdown",
   "metadata": {
    "collapsed": true
   },
   "source": [
    "### Python module/package imports for this chapter"
   ]
  },
  {
   "cell_type": "code",
   "execution_count": null,
   "metadata": {},
   "outputs": [],
   "source": [
    "import math, json, collections, itertools\n",
    "\n",
    "import numpy as np\n",
    "import matplotlib.pyplot as pp\n",
    "%matplotlib inline\n",
    "\n",
    "from mpl_toolkits.basemap import Basemap\n",
    "import geopy"
   ]
  },
  {
   "cell_type": "markdown",
   "metadata": {},
   "source": [
    "## Mastering Python loops"
   ]
  },
  {
   "cell_type": "code",
   "execution_count": null,
   "metadata": {},
   "outputs": [],
   "source": [
    "for n in [1,1,2,3,5,8,13,21,34,55]:\n",
    "    print(n)"
   ]
  },
  {
   "cell_type": "code",
   "execution_count": null,
   "metadata": {},
   "outputs": [],
   "source": [
    "for l in \"Fibonacci\":\n",
    "    print(l)"
   ]
  },
  {
   "cell_type": "code",
   "execution_count": null,
   "metadata": {},
   "outputs": [],
   "source": [
    "it = iter(\"Fib\")\n",
    "print(it.__next__())\n",
    "print(it.__next__())\n",
    "print(it.__next__())\n",
    "print(it.__next__())"
   ]
  },
  {
   "cell_type": "code",
   "execution_count": null,
   "metadata": {},
   "outputs": [],
   "source": [
    "for game in open('games.txt','r'):\n",
    "    print(game,end='')"
   ]
  },
  {
   "cell_type": "code",
   "execution_count": null,
   "metadata": {},
   "outputs": [],
   "source": [
    "## example of spliting a string using .split() \n",
    "\n",
    "words = 'Melbourne / Stockholm (1956)'.split()\n",
    "\n",
    "city = ' '.join(words[:-1])\n",
    "print(city)"
   ]
  },
  {
   "cell_type": "code",
   "execution_count": null,
   "metadata": {},
   "outputs": [],
   "source": [
    "## example of spliting a string using regular expressions --> here removing dots from the whole string \n",
    "\n",
    "name = 'www.example.com'\n",
    "\n",
    "import re\n",
    "out = re.sub('[(\\.)]', '', name)\n",
    "print(out)"
   ]
  },
  {
   "cell_type": "code",
   "execution_count": null,
   "metadata": {},
   "outputs": [],
   "source": [
    "for game in open('games.txt','r'):\n",
    "    city = game.split()[0]\n",
    "    year = game.split()[1]\n",
    "    \n",
    "    print(city,year)"
   ]
  },
  {
   "cell_type": "code",
   "execution_count": null,
   "metadata": {},
   "outputs": [],
   "source": [
    "for game in open('games.txt','r'):\n",
    "    words = game.split()\n",
    "    \n",
    "    city = ' '.join(words[:-1])\n",
    "    year = words[-1].strip('()')\n",
    "    \n",
    "    print(city,year)"
   ]
  },
  {
   "cell_type": "code",
   "execution_count": null,
   "metadata": {},
   "outputs": [],
   "source": [
    "cities, years = [], []\n",
    "\n",
    "for game in open('games.txt','r'):\n",
    "    words = game.split()\n",
    "    \n",
    "    city = ' '.join(words[:-1])\n",
    "    year = words[-1].strip('()')\n",
    "    \n",
    "    cities.append(city)\n",
    "    years.append(year)"
   ]
  },
  {
   "cell_type": "code",
   "execution_count": null,
   "metadata": {},
   "outputs": [],
   "source": [
    "geolocator = geopy.geocoders.Nominatim()\n",
    "\n",
    "locations = {}\n",
    "for city in cities:\n",
    "    print(\"Locating\",city)\n",
    "    locations[city] = geolocator.geocode(city.split('/')[0])"
   ]
  },
  {
   "cell_type": "code",
   "execution_count": null,
   "metadata": {},
   "outputs": [],
   "source": [
    "locations[\"Paris\"]"
   ]
  },
  {
   "cell_type": "code",
   "execution_count": null,
   "metadata": {},
   "outputs": [],
   "source": [
    "pp.figure(figsize=(10,5))\n",
    "\n",
    "world = Basemap()\n",
    "world.drawcoastlines(linewidth=0.25)\n",
    "world.drawcountries(linewidth=0.25)"
   ]
  },
  {
   "cell_type": "code",
   "execution_count": null,
   "metadata": {},
   "outputs": [],
   "source": [
    "pp.figure(figsize=(10,5))\n",
    "\n",
    "world = Basemap()\n",
    "world.drawcoastlines(linewidth=0.25)\n",
    "world.drawcountries(linewidth=0.25)\n",
    "\n",
    "for city,pos in locations.items():\n",
    "    world.plot(pos.longitude,pos.latitude,'r.',markersize=10,latlon=True)"
   ]
  },
  {
   "cell_type": "code",
   "execution_count": null,
   "metadata": {},
   "outputs": [],
   "source": [
    "locations"
   ]
  },
  {
   "cell_type": "code",
   "execution_count": null,
   "metadata": {},
   "outputs": [],
   "source": [
    "locations['Rome'] = geolocator.geocode('Rome, Italy')"
   ]
  },
  {
   "cell_type": "code",
   "execution_count": null,
   "metadata": {},
   "outputs": [],
   "source": [
    "locations['Rome']"
   ]
  },
  {
   "cell_type": "code",
   "execution_count": null,
   "metadata": {},
   "outputs": [],
   "source": [
    "locations['Athens'] = geolocator.geocode('Athens, Greece')"
   ]
  },
  {
   "cell_type": "code",
   "execution_count": null,
   "metadata": {},
   "outputs": [],
   "source": [
    "pp.figure(figsize=(10,5))\n",
    "\n",
    "world = Basemap()\n",
    "world.drawcoastlines(linewidth=0.25)\n",
    "world.drawcountries(linewidth=0.25)\n",
    "\n",
    "for city,pos in locations.items():\n",
    "    world.plot(pos.longitude,pos.latitude,'r.',markersize=10,latlon=True)"
   ]
  },
  {
   "cell_type": "code",
   "execution_count": null,
   "metadata": {},
   "outputs": [],
   "source": [
    "for i,city in enumerate(cities[:10]):\n",
    "    print(i,city)"
   ]
  },
  {
   "cell_type": "code",
   "execution_count": null,
   "metadata": {},
   "outputs": [],
   "source": [
    "for city in enumerate(cities[:10]):\n",
    "    print(city)"
   ]
  },
  {
   "cell_type": "code",
   "execution_count": null,
   "metadata": {},
   "outputs": [],
   "source": [
    "for city in sorted(cities[:10]):\n",
    "    print(city)"
   ]
  },
  {
   "cell_type": "code",
   "execution_count": null,
   "metadata": {},
   "outputs": [],
   "source": [
    "for city in sorted(cities[:10],key=len):\n",
    "    print(city)"
   ]
  },
  {
   "cell_type": "code",
   "execution_count": null,
   "metadata": {},
   "outputs": [],
   "source": [
    "for i,city in enumerate(reversed(cities[:10])):\n",
    "    print(i,city)"
   ]
  },
  {
   "cell_type": "code",
   "execution_count": null,
   "metadata": {},
   "outputs": [],
   "source": [
    "for year,city in zip(years[:10],cities):\n",
    "    print(year,city)"
   ]
  },
  {
   "cell_type": "code",
   "execution_count": null,
   "metadata": {},
   "outputs": [],
   "source": [
    "## map and filter functions apply a function over the elements of iterator"
   ]
  }
 ],
 "metadata": {
  "anaconda-cloud": {},
  "kernelspec": {
   "display_name": "Python 3",
   "language": "python",
   "name": "python3"
  },
  "language_info": {
   "codemirror_mode": {
    "name": "ipython",
    "version": 3
   },
   "file_extension": ".py",
   "mimetype": "text/x-python",
   "name": "python",
   "nbconvert_exporter": "python",
   "pygments_lexer": "ipython3",
   "version": "3.7.0"
  }
 },
 "nbformat": 4,
 "nbformat_minor": 1
}
