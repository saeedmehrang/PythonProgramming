{
 "cells": [
  {
   "cell_type": "markdown",
   "metadata": {
    "collapsed": true
   },
   "source": [
    "### Python module/package imports for this chapter"
   ]
  },
  {
   "cell_type": "code",
   "execution_count": null,
   "metadata": {},
   "outputs": [],
   "source": [
    "import math, json, collections, itertools\n",
    "\n",
    "import numpy as np\n",
    "import matplotlib.pyplot as pp\n",
    "%matplotlib inline\n",
    "\n",
    "from mpl_toolkits.basemap import Basemap\n",
    "import geopy"
   ]
  },
  {
   "cell_type": "markdown",
   "metadata": {},
   "source": [
    "### Code and data needed from collections script"
   ]
  },
  {
   "cell_type": "code",
   "execution_count": null,
   "metadata": {},
   "outputs": [],
   "source": [
    "medal = collections.namedtuple('medal',['year','athlete','team','event'])\n",
    "medals = [medal(*line.strip().split('\\t')) for line in open('DATA/goldmedals.txt','r')]"
   ]
  },
  {
   "cell_type": "code",
   "execution_count": null,
   "metadata": {},
   "outputs": [],
   "source": [
    "# made a list of dictionaries out of the nammed tuple. An ordered dict is made first and then a \n",
    "# normal dict out of ordered dicts\n",
    "\n",
    "medals_dict = [dict(medal._asdict()) for medal in medals] \n",
    "print(medals_dict[:10])"
   ]
  },
  {
   "cell_type": "code",
   "execution_count": null,
   "metadata": {},
   "outputs": [],
   "source": [
    "## the same example of extracting athlete names from the dict object\n",
    "\n",
    "athletes = sorted({medal['athlete'] for medal in medals_dict})\n",
    "\n",
    "athletes[:10]"
   ]
  },
  {
   "cell_type": "markdown",
   "metadata": {},
   "source": [
    "## Refactoring code to make it Pythonic"
   ]
  },
  {
   "cell_type": "code",
   "execution_count": null,
   "metadata": {},
   "outputs": [],
   "source": [
    "import this"
   ]
  },
  {
   "cell_type": "code",
   "execution_count": null,
   "metadata": {},
   "outputs": [],
   "source": [
    "athletes = []\n",
    "\n",
    "for medal in medals:\n",
    "    if medal.athlete not in athletes:\n",
    "        athletes.append(medal.athlete)\n",
    "\n",
    "athletes.sort()"
   ]
  },
  {
   "cell_type": "code",
   "execution_count": null,
   "metadata": {},
   "outputs": [],
   "source": [
    "athletes[:10]"
   ]
  },
  {
   "cell_type": "code",
   "execution_count": null,
   "metadata": {},
   "outputs": [],
   "source": [
    "aths = {medal.athlete for medal in medals} # set of athlete names"
   ]
  },
  {
   "cell_type": "code",
   "execution_count": null,
   "metadata": {},
   "outputs": [],
   "source": [
    "athletes = sorted({medal.athlete for medal in medals})"
   ]
  },
  {
   "cell_type": "code",
   "execution_count": null,
   "metadata": {},
   "outputs": [],
   "source": [
    "athletes[:10]"
   ]
  },
  {
   "cell_type": "code",
   "execution_count": null,
   "metadata": {},
   "outputs": [],
   "source": [
    "winners_100m = {medal.athlete for medal in medals if '100m' in medal.event}\n",
    "winners_200m = {medal.athlete for medal in medals if '200m' in medal.event}"
   ]
  },
  {
   "cell_type": "code",
   "execution_count": null,
   "metadata": {
    "scrolled": true
   },
   "outputs": [],
   "source": [
    "winners_100m"
   ]
  },
  {
   "cell_type": "code",
   "execution_count": null,
   "metadata": {},
   "outputs": [],
   "source": [
    "winners_both = {athlete for athlete in winners_100m if athlete in winners_200m} # a set "
   ]
  },
  {
   "cell_type": "code",
   "execution_count": null,
   "metadata": {},
   "outputs": [],
   "source": [
    "winners_both"
   ]
  },
  {
   "cell_type": "code",
   "execution_count": null,
   "metadata": {},
   "outputs": [],
   "source": [
    "winners_100m & winners_200m # getting the intersection of two sets "
   ]
  },
  {
   "cell_type": "code",
   "execution_count": null,
   "metadata": {},
   "outputs": [],
   "source": [
    "winners_100m | winners_200m # the union of two sets "
   ]
  },
  {
   "cell_type": "code",
   "execution_count": null,
   "metadata": {},
   "outputs": [],
   "source": [
    "winners_100m - winners_200m # the difference of two sets "
   ]
  },
  {
   "cell_type": "code",
   "execution_count": null,
   "metadata": {},
   "outputs": [],
   "source": [
    "for medal in medals:\n",
    "    if medal.event == 'long jump':\n",
    "        print('In %s, %s won for %s.' % (medal.year,medal.athlete,medal.team))"
   ]
  },
  {
   "cell_type": "code",
   "execution_count": null,
   "metadata": {},
   "outputs": [],
   "source": [
    "for medal in medals:\n",
    "    if medal.event.startswith('long jump'):\n",
    "        print('In %s, %s won for %s.' % (medal.year,medal.athlete,medal.team))"
   ]
  },
  {
   "cell_type": "code",
   "execution_count": null,
   "metadata": {},
   "outputs": [],
   "source": [
    "for medal in medals:\n",
    "    if medal.event.startswith('long jump'):\n",
    "        print('In {0}, {1} won for {2}.'.format(medal.year,medal.athlete,medal.team))"
   ]
  },
  {
   "cell_type": "code",
   "execution_count": null,
   "metadata": {},
   "outputs": [],
   "source": [
    "for medal in medals:\n",
    "    if medal.event.startswith('long jump'):\n",
    "        print('In {year}, {athlete} won for {team}.'.format(year=medal.year,athlete=medal.athlete,team=medal.team))"
   ]
  },
  {
   "cell_type": "code",
   "execution_count": null,
   "metadata": {},
   "outputs": [],
   "source": [
    "## a dynamic function for retrieving items with varying inputs from namedtuple of medals\n",
    "\n",
    "def findmedal(year=None,team=None,event=None):\n",
    "    filtered = medals\n",
    "    \n",
    "    if year is not None:\n",
    "        filtered = [medal for medal in filtered if medal.year == year]\n",
    "        \n",
    "    if team is not None:\n",
    "        filtered = [medal for medal in filtered if medal.team == team]\n",
    "        \n",
    "    if event is not None:\n",
    "        filtered = [medal for medal in filtered if medal.event == event]\n",
    "    \n",
    "    return filtered"
   ]
  },
  {
   "cell_type": "code",
   "execution_count": null,
   "metadata": {},
   "outputs": [],
   "source": [
    "findmedal(year='1896',team='USA')"
   ]
  },
  {
   "cell_type": "code",
   "execution_count": null,
   "metadata": {},
   "outputs": [],
   "source": [
    "def findmedal(**kwargs):\n",
    "    return [medal for medal in medals\n",
    "                  if all(getattr(medal,key) == value for key,value in kwargs.items())]"
   ]
  },
  {
   "cell_type": "code",
   "execution_count": null,
   "metadata": {},
   "outputs": [],
   "source": [
    "findmedal(year='1896',team='USA')"
   ]
  },
  {
   "cell_type": "code",
   "execution_count": null,
   "metadata": {},
   "outputs": [],
   "source": [
    "findmedal(athlete='Carl Lewis')"
   ]
  },
  {
   "cell_type": "code",
   "execution_count": null,
   "metadata": {},
   "outputs": [],
   "source": [
    "def sumseveral(*args,multiplier=1.0):\n",
    "    return multiplier * sum(args)"
   ]
  },
  {
   "cell_type": "code",
   "execution_count": null,
   "metadata": {},
   "outputs": [],
   "source": [
    "sumseveral(1,2,3,multiplier=10)"
   ]
  }
 ],
 "metadata": {
  "anaconda-cloud": {},
  "kernelspec": {
   "display_name": "Python 3",
   "language": "python",
   "name": "python3"
  },
  "language_info": {
   "codemirror_mode": {
    "name": "ipython",
    "version": 3
   },
   "file_extension": ".py",
   "mimetype": "text/x-python",
   "name": "python",
   "nbconvert_exporter": "python",
   "pygments_lexer": "ipython3",
   "version": "3.7.0"
  }
 },
 "nbformat": 4,
 "nbformat_minor": 1
}
