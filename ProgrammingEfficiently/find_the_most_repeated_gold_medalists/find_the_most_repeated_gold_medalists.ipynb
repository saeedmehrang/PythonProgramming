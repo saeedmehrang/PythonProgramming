{
 "cells": [
  {
   "cell_type": "markdown",
   "metadata": {},
   "source": [
    "### Python module/package imports for this chapter"
   ]
  },
  {
   "cell_type": "code",
   "execution_count": null,
   "metadata": {},
   "outputs": [],
   "source": [
    "import math, json, collections, itertools\n",
    "\n",
    "import numpy as np\n",
    "import matplotlib.pyplot as pp\n",
    "%matplotlib inline\n",
    "\n",
    "from mpl_toolkits.basemap import Basemap\n",
    "import geopy"
   ]
  },
  {
   "cell_type": "code",
   "execution_count": null,
   "metadata": {},
   "outputs": [],
   "source": [
    "pwd"
   ]
  },
  {
   "cell_type": "markdown",
   "metadata": {},
   "source": [
    "### Code and data needed from previous scripts"
   ]
  },
  {
   "cell_type": "code",
   "execution_count": null,
   "metadata": {},
   "outputs": [],
   "source": [
    "medal = collections.namedtuple('medal',['year','athlete','team','event'])\n",
    "medals = [medal(*line.strip().split('\\t')) for line in open('/DATA/goldmedals.txt','r')]"
   ]
  },
  {
   "cell_type": "markdown",
   "metadata": {},
   "source": [
    "## Challenge: (1) find the five athletes who won the most gold medals \n",
    "## (2) find the five athletes who won gold medals in largest different events\n",
    "\n",
    "## Hint: slightly different names for events in the data may correspond to same events!"
   ]
  },
  {
   "cell_type": "code",
   "execution_count": null,
   "metadata": {},
   "outputs": [],
   "source": [
    "medals_by_athlete = collections.Counter(medal.athlete for medal in medals)"
   ]
  },
  {
   "cell_type": "code",
   "execution_count": null,
   "metadata": {},
   "outputs": [],
   "source": [
    "medals_by_athlete.most_common(5)"
   ]
  },
  {
   "cell_type": "code",
   "execution_count": null,
   "metadata": {},
   "outputs": [],
   "source": [
    "events_by_athlete_set = collections.defaultdict(set)\n",
    "\n",
    "for medal in medals:\n",
    "    events_by_athlete_set[medal.athlete].add(medal.event)"
   ]
  },
  {
   "cell_type": "code",
   "execution_count": null,
   "metadata": {},
   "outputs": [],
   "source": [
    "events_by_athlete_set"
   ]
  },
  {
   "cell_type": "code",
   "execution_count": null,
   "metadata": {},
   "outputs": [],
   "source": [
    "# def howmany(tup):\n",
    "#    return len(tup[1])\n",
    "\n",
    "# sorted(events_by_athlete_set.items(),reverse=False)"
   ]
  },
  {
   "cell_type": "code",
   "execution_count": null,
   "metadata": {},
   "outputs": [],
   "source": [
    "def howmany(tup):\n",
    "    return len(tup[1])\n",
    "\n",
    "sorted(events_by_athlete_set.items(),key=howmany,reverse=True) # sort the elements of defaultdict by length of \n",
    "                                                               # the items in each key"
   ]
  },
  {
   "cell_type": "code",
   "execution_count": null,
   "metadata": {},
   "outputs": [],
   "source": [
    "## this function removes the words \"men\" and \"women\" from the event names\n",
    "\n",
    "def clean(event):\n",
    "    \n",
    "    return ' '.join(word for word in event.split() if word not in ('men','women')) # returns a single string  \n",
    "    \n",
    "    # return [word for word in event.split() if word not in ('men','women')] # returns a list of words\n",
    "    \n",
    "    # return ' '.join([word for word in event.split() if word not in ('men','women')]) # same output as first return"
   ]
  },
  {
   "cell_type": "code",
   "execution_count": null,
   "metadata": {},
   "outputs": [],
   "source": [
    "clean('100m')"
   ]
  },
  {
   "cell_type": "code",
   "execution_count": null,
   "metadata": {},
   "outputs": [],
   "source": [
    "clean('100m men salam')"
   ]
  },
  {
   "cell_type": "code",
   "execution_count": null,
   "metadata": {},
   "outputs": [],
   "source": [
    "clean('100m men')"
   ]
  },
  {
   "cell_type": "code",
   "execution_count": null,
   "metadata": {},
   "outputs": [],
   "source": [
    "events_by_athlete_set = collections.defaultdict(set)\n",
    "\n",
    "for medal in medals:\n",
    "    events_by_athlete_set[medal.athlete].add(clean(medal.event))\n",
    "\n",
    "def howmany(tup):\n",
    "    return len(tup[1])\n",
    "\n",
    "sorted(events_by_athlete_set.items(),key=howmany,reverse=True)"
   ]
  },
  {
   "cell_type": "code",
   "execution_count": null,
   "metadata": {},
   "outputs": [],
   "source": [
    "## the first five athletes who won the most gold medals in different unique events \n",
    "\n",
    "sorted(events_by_athlete_set.items(),key=howmany,reverse=True)[:5] "
   ]
  },
  {
   "cell_type": "code",
   "execution_count": null,
   "metadata": {},
   "outputs": [],
   "source": []
  }
 ],
 "metadata": {
  "anaconda-cloud": {},
  "kernelspec": {
   "display_name": "Python 3",
   "language": "python",
   "name": "python3"
  },
  "language_info": {
   "codemirror_mode": {
    "name": "ipython",
    "version": 3
   },
   "file_extension": ".py",
   "mimetype": "text/x-python",
   "name": "python",
   "nbconvert_exporter": "python",
   "pygments_lexer": "ipython3",
   "version": "3.7.0"
  }
 },
 "nbformat": 4,
 "nbformat_minor": 1
}
